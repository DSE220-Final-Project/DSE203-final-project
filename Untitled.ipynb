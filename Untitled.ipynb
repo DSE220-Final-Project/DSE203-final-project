{
 "cells": [
  {
   "cell_type": "code",
   "execution_count": 1,
   "metadata": {
    "collapsed": true
   },
   "outputs": [],
   "source": [
    "import pandas as pd"
   ]
  },
  {
   "cell_type": "code",
   "execution_count": 106,
   "metadata": {
    "collapsed": false
   },
   "outputs": [
    {
     "name": "stdout",
     "output_type": "stream",
     "text": [
      "SELECT eventid , related \n",
      "FROM  gtd \n",
      "WHERE country_txt  =  'Iraq'\n"
     ]
    }
   ],
   "source": [
    "datalog_str = \"gtd(eventid,related) := gtd(eventid,_,_, country_txt = 'Iraq', related)\"\n",
    "\n",
    "left = datalog_str.split(\":=\")[0]\n",
    "right = datalog_str.split(\":=\")[1]\n",
    "\n",
    "select = [c.strip() for c in left[left.find(\"(\")+1:left.find(\")\")].split(',')]\n",
    "from_table = right.split('(')[0]\n",
    "query = [q.strip() for q in right[right.find(\"(\")+1:right.find(\")\")].split(',')]\n",
    "\n",
    "where = list(set(query)-set(select)) \n",
    "where_filtered = filter(lambda s:(s!= '_'), where)\n",
    "\n",
    "where_col = [s.split(\"=\")[0] for s in where_filtered]\n",
    "where_val = [t.split(\"=\")[1] for t in where_filtered]\n",
    "\n",
    "print \"SELECT\", \" , \".join(str(x) for x in select),\"\\n\"\\\n",
    "\"FROM\", from_table, \"\\n\", \"WHERE\", \" \".join(str(x) for x in where_col),'=',\" \".join(str(x) for x in where_val)"
   ]
  },
  {
   "cell_type": "code",
   "execution_count": null,
   "metadata": {
    "collapsed": true
   },
   "outputs": [],
   "source": []
  }
 ],
 "metadata": {
  "anaconda-cloud": {},
  "kernelspec": {
   "display_name": "Python [conda root]",
   "language": "python",
   "name": "conda-root-py"
  },
  "language_info": {
   "codemirror_mode": {
    "name": "ipython",
    "version": 2
   },
   "file_extension": ".py",
   "mimetype": "text/x-python",
   "name": "python",
   "nbconvert_exporter": "python",
   "pygments_lexer": "ipython2",
   "version": "2.7.12"
  }
 },
 "nbformat": 4,
 "nbformat_minor": 1
}
